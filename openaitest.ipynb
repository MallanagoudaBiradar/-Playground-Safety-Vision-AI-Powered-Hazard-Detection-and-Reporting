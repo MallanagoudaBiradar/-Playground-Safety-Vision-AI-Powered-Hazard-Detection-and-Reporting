{
 "cells": [
  {
   "cell_type": "code",
   "execution_count": 1,
   "metadata": {},
   "outputs": [
    {
     "ename": "IndexError",
     "evalue": "list index out of range",
     "output_type": "error",
     "traceback": [
      "\u001b[1;31m---------------------------------------------------------------------------\u001b[0m",
      "\u001b[1;31mIndexError\u001b[0m                                Traceback (most recent call last)",
      "Cell \u001b[1;32mIn[1], line 58\u001b[0m\n\u001b[0;32m     54\u001b[0m data \u001b[38;5;241m=\u001b[39m response\u001b[38;5;241m.\u001b[39mjson()\n\u001b[0;32m     55\u001b[0m choices \u001b[38;5;241m=\u001b[39m data\u001b[38;5;241m.\u001b[39mget(\u001b[38;5;124m'\u001b[39m\u001b[38;5;124mchoices\u001b[39m\u001b[38;5;124m'\u001b[39m, [])\n\u001b[1;32m---> 58\u001b[0m content \u001b[38;5;241m=\u001b[39m \u001b[43mchoices\u001b[49m\u001b[43m[\u001b[49m\u001b[38;5;241;43m0\u001b[39;49m\u001b[43m]\u001b[49m\u001b[38;5;241m.\u001b[39mget(\u001b[38;5;124m'\u001b[39m\u001b[38;5;124mmessage\u001b[39m\u001b[38;5;124m'\u001b[39m, {})\u001b[38;5;241m.\u001b[39mget(\u001b[38;5;124m'\u001b[39m\u001b[38;5;124mcontent\u001b[39m\u001b[38;5;124m'\u001b[39m, \u001b[38;5;124m'\u001b[39m\u001b[38;5;124m'\u001b[39m)\n\u001b[0;32m     61\u001b[0m df \u001b[38;5;241m=\u001b[39m pd\u001b[38;5;241m.\u001b[39mDataFrame({\u001b[38;5;124m'\u001b[39m\u001b[38;5;124mContent\u001b[39m\u001b[38;5;124m'\u001b[39m: [content]})\n\u001b[0;32m     64\u001b[0m df\u001b[38;5;241m.\u001b[39mto_csv(\u001b[38;5;124m'\u001b[39m\u001b[38;5;124moutput.txt\u001b[39m\u001b[38;5;124m'\u001b[39m, index\u001b[38;5;241m=\u001b[39m\u001b[38;5;28;01mFalse\u001b[39;00m, header\u001b[38;5;241m=\u001b[39m\u001b[38;5;28;01mTrue\u001b[39;00m, sep\u001b[38;5;241m=\u001b[39m\u001b[38;5;124m'\u001b[39m\u001b[38;5;130;01m\\t\u001b[39;00m\u001b[38;5;124m'\u001b[39m)\n",
      "\u001b[1;31mIndexError\u001b[0m: list index out of range"
     ]
    }
   ],
   "source": [
    "import requests\n",
    "import pandas as pd\n",
    "\n",
    "\n",
    "api_key = \"OPENAi-API-KEY\"\n",
    "\n",
    "\n",
    "image_url = \"IMAGE URL\"\n",
    "\n",
    "\n",
    "\n",
    "hazard_list = [\"Low branches or unstable tree limbs\", \"thorny bushes or plants\",\"exposed tree roots\", \"animal feces\", \"sharp corners\", \"Poisonous indoor and outdoor plants\",\" All Equipment other than child safe toys\", \" All supplies other than child safe toys \", \"Hose \",\"Towels \",\" Broken Fence \", \" Insufficient mulch near toy landing area  \",\"Ropes or leashes \",\"Tripping hazards\"]\n",
    "\n",
    "prompt = f\"In the attached image of childcare playground , scan for every hazardous item that should not be present in a childcare classroom. \" \\\n",
    "         f\"Provide your output in the form of a table with 3 columns. \" \\\n",
    "         f\"The first column should contain the name of the hazard, the second column should contain 'yes' if the \" \\\n",
    "         f\"object exists, 'no' if it does not exist, and 'Cannot determine' if you are unable to determine. \" \\\n",
    "         f\"The third column should indicate location of that object if applicable. \" \\\n",
    "         f\"You seemed to have skipped many items on the Hazard Table. \" \\\n",
    "         f\"I need your output to check every item on the hazard list and give me your complete output. \" \\\n",
    "         f\"Given the list: {hazard_list}\"\n",
    "\n",
    "headers = {\n",
    "    \"Content-Type\": \"application/json\",\n",
    "    \"Authorization\": f\"Bearer {api_key}\"\n",
    "}\n",
    "\n",
    "payload = {\n",
    "    \"model\": \"gpt-4-vision-preview\",\n",
    "    \"messages\": [\n",
    "        {\n",
    "            \"role\": \"user\",\n",
    "            \"content\": [\n",
    "                {\n",
    "                    \"type\": \"text\",\n",
    "                    \"text\": prompt\n",
    "                },\n",
    "                \n",
    "                {\n",
    "                    \"type\": \"image_url\",\n",
    "                    \"image_url\": {\n",
    "                        \"url\": image_url\n",
    "                    }\n",
    "                },\n",
    "            ]\n",
    "        }\n",
    "    ],\n",
    "    \"max_tokens\": 300\n",
    "}\n",
    "\n",
    "response = requests.post(\"https://api.openai.com/v1/chat/completions\", headers=headers, json=payload)\n",
    "\n",
    "\n",
    "data = response.json()\n",
    "choices = data.get('choices', [])\n",
    "\n",
    "\n",
    "content = choices[0].get('message', {}).get('content', '')\n",
    "\n",
    "\n",
    "df = pd.DataFrame({'Content': [content]})\n",
    "\n",
    "\n",
    "df.to_csv('output.txt', index=False, header=True, sep='\\t')\n",
    "\n",
    "\n",
    "pd.set_option('display.max_colwidth', None)\n",
    "print(df)\n"
   ]
  }
 ],
 "metadata": {
  "kernelspec": {
   "display_name": "Python 3",
   "language": "python",
   "name": "python3"
  },
  "language_info": {
   "codemirror_mode": {
    "name": "ipython",
    "version": 3
   },
   "file_extension": ".py",
   "mimetype": "text/x-python",
   "name": "python",
   "nbconvert_exporter": "python",
   "pygments_lexer": "ipython3",
   "version": "3.12.1"
  }
 },
 "nbformat": 4,
 "nbformat_minor": 2
}
